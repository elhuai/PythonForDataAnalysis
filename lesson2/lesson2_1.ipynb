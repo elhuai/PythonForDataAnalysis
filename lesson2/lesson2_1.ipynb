{
  "nbformat": 4,
  "nbformat_minor": 0,
  "metadata": {
    "colab": {
      "provenance": [],
      "include_colab_link": true
    },
    "kernelspec": {
      "name": "python3",
      "display_name": "Python 3"
    },
    "language_info": {
      "name": "python"
    }
  },
  "cells": [
    {
      "cell_type": "markdown",
      "metadata": {
        "id": "view-in-github",
        "colab_type": "text"
      },
      "source": [
        "<a href=\"https://colab.research.google.com/github/elhuai/PythonForDataAnalysis/blob/main/lesson2/lesson2_1.ipynb\" target=\"_parent\"><img src=\"https://colab.research.google.com/assets/colab-badge.svg\" alt=\"Open In Colab\"/></a>"
      ]
    },
    {
      "cell_type": "markdown",
      "source": [
        "####運算式的順序\n",
        "1. ()\n",
        "2. **\n",
        "3. 正負\n",
        "4. / % // *\n",
        "5. ＋ -\n",
        "6. ="
      ],
      "metadata": {
        "id": "DKtmb9WurEGr"
      }
    },
    {
      "cell_type": "code",
      "source": [
        "1+2+3*4"
      ],
      "metadata": {
        "id": "0SUWO8o6rD4Q",
        "outputId": "33710a07-e6f3-4adf-f33f-292fda2fdfd8",
        "colab": {
          "base_uri": "https://localhost:8080/"
        }
      },
      "execution_count": 1,
      "outputs": [
        {
          "output_type": "execute_result",
          "data": {
            "text/plain": [
              "15"
            ]
          },
          "metadata": {},
          "execution_count": 1
        }
      ]
    },
    {
      "cell_type": "code",
      "execution_count": null,
      "metadata": {
        "id": "MzMaz_bupBjw"
      },
      "outputs": [],
      "source": []
    }
  ]
}