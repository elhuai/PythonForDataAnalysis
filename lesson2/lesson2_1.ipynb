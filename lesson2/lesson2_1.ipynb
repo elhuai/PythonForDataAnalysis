{
  "nbformat": 4,
  "nbformat_minor": 0,
  "metadata": {
    "colab": {
      "provenance": []
    },
    "kernelspec": {
      "name": "python3",
      "display_name": "Python 3"
    },
    "language_info": {
      "name": "python"
    }
  },
  "cells": [
    {
      "cell_type": "markdown",
      "source": [
        "####運算式的順序\n",
        "1. ()\n",
        "2. \\**\n",
        "3. 正負\n",
        "4. \\* / % //\n",
        "5. \\+ -\n",
        "6. = 指定運算子"
      ],
      "metadata": {
        "id": "DKtmb9WurEGr"
      }
    },
    {
      "cell_type": "code",
      "source": [
        "1 + 2 + 3 * 4"
      ],
      "metadata": {
        "colab": {
          "base_uri": "https://localhost:8080/"
        },
        "id": "0SUWO8o6rD4Q",
        "outputId": "33710a07-e6f3-4adf-f33f-292fda2fdfd8"
      },
      "execution_count": 1,
      "outputs": [
        {
          "output_type": "execute_result",
          "data": {
            "text/plain": [
              "15"
            ]
          },
          "metadata": {},
          "execution_count": 1
        }
      ]
    },
    {
      "cell_type": "code",
      "execution_count": 2,
      "metadata": {
        "id": "MzMaz_bupBjw",
        "colab": {
          "base_uri": "https://localhost:8080/"
        },
        "outputId": "26001c1a-04ad-4a36-9eab-3ee86fafe30e"
      },
      "outputs": [
        {
          "output_type": "execute_result",
          "data": {
            "text/plain": [
              "654"
            ]
          },
          "metadata": {},
          "execution_count": 2
        }
      ],
      "source": [
        "2 * (3 + 4) ** 3 - 2 ** 4 * 2\n"
      ]
    }
  ]
}
