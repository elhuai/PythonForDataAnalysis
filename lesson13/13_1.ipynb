{
 "cells": [
  {
   "cell_type": "code",
   "execution_count": null,
   "id": "9a1d1658",
   "metadata": {},
   "outputs": [
    {
     "data": {
      "text/plain": [
       "3"
      ]
     },
     "execution_count": 23,
     "metadata": {},
     "output_type": "execute_result"
    }
   ],
   "source": [
    "#package -> modual -> function\n",
    "import numpy as np \n",
    "np.random.randint(3,6) #最大值"
   ]
  },
  {
   "cell_type": "code",
   "execution_count": 22,
   "id": "b7070e3e",
   "metadata": {},
   "outputs": [
    {
     "data": {
      "text/plain": [
       "array([[0.70464976, 0.50164834, 0.42361579],\n",
       "       [0.23639217, 0.20463757, 0.77338575],\n",
       "       [0.67028155, 0.07860104, 0.07869574]])"
      ]
     },
     "execution_count": 22,
     "metadata": {},
     "output_type": "execute_result"
    }
   ],
   "source": [
    "import numpy as np \n",
    "np.random.random()\n",
    "np.random.random(3)\n",
    "np.random.random(size=3)\n",
    "np.random.random(size=(3,3)) # 三組資料 每組三筆\n"
   ]
  },
  {
   "cell_type": "code",
   "execution_count": 1,
   "id": "d38ec89f",
   "metadata": {},
   "outputs": [
    {
     "data": {
      "text/plain": [
       "dtype('float64')"
      ]
     },
     "execution_count": 1,
     "metadata": {},
     "output_type": "execute_result"
    }
   ],
   "source": [
    "from numpy.random import normal \n",
    "\n",
    "normal_value = normal(size=(3, 4))\n",
    "#ndarray常用的實體屬性\n",
    "type(normal_value)\n",
    "normal_value.ndim\n",
    "normal_value.size\n",
    "normal_value.shape\n",
    "normal_value.dtype"
   ]
  },
  {
   "cell_type": "code",
   "execution_count": 2,
   "id": "37156b05",
   "metadata": {},
   "outputs": [
    {
     "data": {
      "text/plain": [
       "array([ 0.96164165, -0.49045474, -0.43495713])"
      ]
     },
     "execution_count": 2,
     "metadata": {},
     "output_type": "execute_result"
    }
   ],
   "source": [
    "#ndarray,的統計\n",
    "normal_value.sum()\n",
    "normal_value.sum(axis=0)\n",
    "normal_value.sum(axis=1)"
   ]
  }
 ],
 "metadata": {
  "kernelspec": {
   "display_name": "python",
   "language": "python",
   "name": "python3"
  },
  "language_info": {
   "codemirror_mode": {
    "name": "ipython",
    "version": 3
   },
   "file_extension": ".py",
   "mimetype": "text/x-python",
   "name": "python",
   "nbconvert_exporter": "python",
   "pygments_lexer": "ipython3",
   "version": "3.10.16"
  }
 },
 "nbformat": 4,
 "nbformat_minor": 5
}
